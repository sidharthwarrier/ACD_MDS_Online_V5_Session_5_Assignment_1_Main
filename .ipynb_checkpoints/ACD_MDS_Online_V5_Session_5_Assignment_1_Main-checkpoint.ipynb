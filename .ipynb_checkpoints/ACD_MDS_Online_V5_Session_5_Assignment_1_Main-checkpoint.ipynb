{
 "cells": [
  {
   "cell_type": "markdown",
   "metadata": {},
   "source": [
    "1. Write a function to compute 5/0 and use try/except to catch the exceptions.\n"
   ]
  },
  {
   "cell_type": "code",
   "execution_count": 1,
   "metadata": {},
   "outputs": [
    {
     "name": "stdout",
     "output_type": "stream",
     "text": [
      "Division by zero not possible\n"
     ]
    }
   ],
   "source": [
    "#Define function\n",
    "def zerodivision():\n",
    "    return 5/0\n",
    "#Try Catch block\n",
    "try:\n",
    "    zerodivision()\n",
    "except ZeroDivisionError:\n",
    "    print(\"Division by zero not possible\")\n",
    "    "
   ]
  },
  {
   "cell_type": "markdown",
   "metadata": {},
   "source": [
    "<p>2. Implement a Python program to generate all sentences where subject is in [\"Americans\",\n",
    "\"Indians\"] and verb is in [\"Play\", \"watch\"] and the object is in [\"Baseball\",\"cricket\"].</p>\n",
    "<p>Hint: Subject,Verb and Object should be declared in the program as shown below.</p>\n",
    "<p>subjects=[\"Americans \",\"Indians\"]</p>\n",
    "<br>verbs=[\"play\",\"watch\"]</br>\n",
    "<br>objects=[\"Baseball\",\"Cricket\"]</br>\n",
    "<p>Output should come as below:</p>\n",
    "<br>Americans play Baseball.</br>\n",
    "<br>Americans play Cricket.</br>\n",
    "<br>Americans watch Baseball.</br>\n",
    "<br>Americans watch Cricket.</br>\n",
    "<br>Indians play Baseball.</br>\n",
    "<br>Indians play Cricket.</br>\n",
    "<br>Indians watch Baseball.</br>\n",
    "<br>Indians watch Cricket.</br>"
   ]
  },
  {
   "cell_type": "code",
   "execution_count": 11,
   "metadata": {},
   "outputs": [
    {
     "name": "stdout",
     "output_type": "stream",
     "text": [
      "Americans play Baseball\n",
      "Americans play Cricket\n",
      "Americans watch Baseball\n",
      "Americans watch Cricket\n",
      "Indians play Baseball\n",
      "Indians play Cricket\n",
      "Indians watch Baseball\n",
      "Indians watch Cricket\n"
     ]
    }
   ],
   "source": [
    "#Define list\n",
    "subjects=[\"Americans \",\"Indians \"]\n",
    "verbs=[\"play \",\"watch \"]\n",
    "objects=[\"Baseball\",\"Cricket\"]\n",
    "\n",
    "#Initialise generator expression\n",
    "sent = (i+j+k for i in subjects  for j in verbs  for k in objects)\n",
    "\n",
    "#Print the result of generator expression\n",
    "for x in sent:\n",
    "    print(x)\n"
   ]
  },
  {
   "cell_type": "code",
   "execution_count": null,
   "metadata": {},
   "outputs": [],
   "source": []
  }
 ],
 "metadata": {
  "kernelspec": {
   "display_name": "Python 3",
   "language": "python",
   "name": "python3"
  },
  "language_info": {
   "codemirror_mode": {
    "name": "ipython",
    "version": 3
   },
   "file_extension": ".py",
   "mimetype": "text/x-python",
   "name": "python",
   "nbconvert_exporter": "python",
   "pygments_lexer": "ipython3",
   "version": "3.6.5"
  }
 },
 "nbformat": 4,
 "nbformat_minor": 2
}
